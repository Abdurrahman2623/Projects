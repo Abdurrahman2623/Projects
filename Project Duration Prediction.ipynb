{
 "cells": [
  {
   "cell_type": "code",
   "execution_count": null,
   "id": "e24941ab",
   "metadata": {},
   "outputs": [],
   "source": [
    "import pandas as pd\n",
    "import numpy as np\n",
    "from sklearn.model_selection import train_test_split\n",
    "from sklearn.preprocessing import OneHotEncoder, StandardScaler\n",
    "from tensorflow import keras\n",
    "from tensorflow.keras import layers, regularizers"
   ]
  },
  {
   "cell_type": "code",
   "execution_count": null,
   "id": "e10b257a",
   "metadata": {
    "scrolled": true
   },
   "outputs": [],
   "source": [
    "df = pd.read_csv(r\"C:\\Users\\fyl\\OneDrive - UWE Bristol\\Data Analysis Projects\\Python\\NLNG Projects.csv\")\n",
    "df"
   ]
  },
  {
   "cell_type": "code",
   "execution_count": null,
   "id": "078a72e4",
   "metadata": {},
   "outputs": [],
   "source": [
    "x = df.drop(columns=['Task Duration (hours)', \n",
    "                            'Project ID', 'Task Duration (days)' ,\n",
    "                            'Start Date'])\n",
    "y = df['Task Duration (hours)']"
   ]
  },
  {
   "cell_type": "code",
   "execution_count": null,
   "id": "d65f7a1b",
   "metadata": {},
   "outputs": [],
   "source": [
    "categorical_cols = [\"Project Name\", \n",
    "                    \"Project Type\", \"Task Name\", \n",
    "                    \"Contractor Type\", \"Location\", \n",
    "                    \"Complexity Level\", \"season\"]\n",
    "numeric_cols = [col for col in x.columns if col not in categorical_cols]"
   ]
  },
  {
   "cell_type": "code",
   "execution_count": null,
   "id": "48319100",
   "metadata": {},
   "outputs": [],
   "source": [
    "# One-hot encode categorical features\n",
    "encoder = OneHotEncoder(sparse_output=False)\n",
    "x_cat = encoder.fit_transform(x[categorical_cols])"
   ]
  },
  {
   "cell_type": "code",
   "execution_count": null,
   "id": "68f4bae8",
   "metadata": {},
   "outputs": [],
   "source": [
    "# Scale numeric features\n",
    "scaler = StandardScaler()\n",
    "x_num = scaler.fit_transform(x[numeric_cols])"
   ]
  },
  {
   "cell_type": "code",
   "execution_count": null,
   "id": "83b123c2",
   "metadata": {},
   "outputs": [],
   "source": [
    "# Combine processed features\n",
    "x_processed = np.hstack([x_num, x_cat])"
   ]
  },
  {
   "cell_type": "code",
   "execution_count": null,
   "id": "fbbb5b13",
   "metadata": {},
   "outputs": [],
   "source": [
    "# Train/test split\n",
    "x_train, x_test, y_train, y_test = train_test_split(x_processed, y, test_size=0.2, random_state=42)\n"
   ]
  },
  {
   "cell_type": "code",
   "execution_count": null,
   "id": "7ac8d5e8",
   "metadata": {},
   "outputs": [],
   "source": [
    "# Define the model\n",
    "model = keras.Sequential([\n",
    "    layers.Input(shape=(x_train.shape[1],)),\n",
    "    layers.BatchNormalization(),\n",
    "    layers.Dense(128, activation='relu', kernel_regularizer=regularizers.l2(1e-4)),\n",
    "    layers.Dropout(0.2),\n",
    "    layers.Dense(128, activation='relu', kernel_regularizer=regularizers.l2(1e-4)),\n",
    "    layers.Dropout(0.2),\n",
    "    layers.Dense(1)  # Predict continuous duration in days\n",
    "])"
   ]
  },
  {
   "cell_type": "code",
   "execution_count": null,
   "id": "a1bd2cf2",
   "metadata": {},
   "outputs": [],
   "source": [
    "model.compile(optimizer=keras.optimizers.Adam(1e-3), loss='mae', metrics=['mae'])\n",
    "cb = [\n",
    "    keras.callbacks.EarlyStopping(patience=50, restore_best_weights=True),\n",
    "    keras.callbacks.ReduceLROnPlateau(patience=20, factor=0.5)\n",
    "]"
   ]
  },
  {
   "cell_type": "code",
   "execution_count": null,
   "id": "477439fd",
   "metadata": {},
   "outputs": [],
   "source": [
    "# Train the model\n",
    "history = model.fit(x_train, y_train, validation_data=(x_test, y_test), epochs=1000, batch_size=32)\n"
   ]
  },
  {
   "cell_type": "code",
   "execution_count": null,
   "id": "19a79ca6",
   "metadata": {},
   "outputs": [],
   "source": [
    "# Evaluate the model\n",
    "loss, mae = model.evaluate(x_test, y_test, verbose=0)\n",
    "mae = mae/24\n",
    "print(f\"Mean Absolute Error on test data: {mae:.2f} days\")"
   ]
  },
  {
   "cell_type": "code",
   "execution_count": null,
   "id": "81839f35",
   "metadata": {},
   "outputs": [],
   "source": [
    "user_data = {\n",
    "    \"Project Name\": [\"NLNG Plant Expansion\"],\n",
    "    \"Project Type\": [\"Industrial\"],\n",
    "    \"Task Name\": [\"Instrumentation\"],\n",
    "    \"Contractor Type\": [\"General\"],\n",
    "    \"Labor Count\": [20],\n",
    "    \"Total Cost (£\": [521840],  # Can include or drop depending on leakage concerns\n",
    "    \"Location\": [\"Calabar\"],\n",
    "    \"Complexity Level\": [\"Medium\"],\n",
    "    \"season\": [\"Raining season\"],\n",
    "}\n",
    "\n",
    "# 1) Make sure your encoder can handle new/unseen categories\n",
    "# (re-fit once with handle_unknown='ignore' before training)\n",
    "encoder = OneHotEncoder(sparse_output=False, handle_unknown='ignore')\n",
    "x_cat = encoder.fit_transform(x[categorical_cols])  # re-fit once, then keep this encoder\n",
    "\n",
    "# 2) Ensure your scaler is the same one already fit on training data (you already have 'scaler')\n",
    "\n",
    "# 3) Create a DataFrame for the new row\n",
    "user_df = pd.DataFrame(user_data)\n",
    "\n",
    "# 4) Make sure the user_df has ALL columns expected by your preprocessing\n",
    "#    (i.e., all categorical_cols and numeric_cols must be present).\n",
    "#    If any numeric column is missing, create it with a neutral value (e.g., 0) or a sensible default.\n",
    "for col in numeric_cols:\n",
    "    if col not in user_df.columns:\n",
    "        user_df[col] = 0  # or use a better default (e.g., training median)\n",
    "\n",
    "for col in categorical_cols:\n",
    "    if col not in user_df.columns:\n",
    "        user_df[col] = \"\"  # empty string -> becomes all-zeros in one-hot\n",
    "\n",
    "# 5) Apply the SAME transforms\n",
    "user_x_num = scaler.transform(user_df[numeric_cols])\n",
    "user_x_cat = encoder.transform(user_df[categorical_cols])\n",
    "\n",
    "# 6) Combine in the SAME order as training\n",
    "user_x = np.hstack([user_x_num, user_x_cat])\n",
    "\n",
    "# 7) Predict\n",
    "pred_hours = model.predict(user_x)[0, 0]\n",
    "pred_days = int(pred_hours/24)\n",
    "print(f\"Predicted Task Duration: {pred_hours:.1f} hours\")\n",
    "print(f\"Predicted Task Duration: {pred_days:.1f} days\")"
   ]
  }
 ],
 "metadata": {
  "kernelspec": {
   "display_name": "tf-env",
   "language": "python",
   "name": "tf-env"
  },
  "language_info": {
   "codemirror_mode": {
    "name": "ipython",
    "version": 3
   },
   "file_extension": ".py",
   "mimetype": "text/x-python",
   "name": "python",
   "nbconvert_exporter": "python",
   "pygments_lexer": "ipython3",
   "version": "3.10.18"
  }
 },
 "nbformat": 4,
 "nbformat_minor": 5
}
